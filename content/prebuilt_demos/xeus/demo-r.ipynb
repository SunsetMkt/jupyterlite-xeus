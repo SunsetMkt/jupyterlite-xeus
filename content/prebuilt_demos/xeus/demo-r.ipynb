{
  "metadata": {
    "kernelspec": {
      "name": "xr",
      "display_name": "R 4.4.2 (xr)",
      "language": "R"
    },
    "language_info": {
      "name": ""
    }
  },
  "nbformat_minor": 5,
  "nbformat": 4,
  "cells": [
    {
      "id": "1476e7a4-f935-4830-90f6-b014b26aa517",
      "cell_type": "code",
      "source": "print(\"Hello from R!\")\n\nA <- matrix(c(4, 1, 1, 3), nrow = 2, byrow = TRUE)\n\n# Eigen decomposition\neigen_result <- eigen(A)\n\nprint(eigen_result$values)\n\nprint(eigen_result$vectors)",
      "metadata": {
        "trusted": true
      },
      "outputs": [],
      "execution_count": null
    }
  ]
}