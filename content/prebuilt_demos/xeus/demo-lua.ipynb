{
  "metadata": {
    "kernelspec": {
      "name": "xlua",
      "display_name": "Lua  (XLua)",
      "language": "lua"
    },
    "language_info": {
      "name": ""
    }
  },
  "nbformat_minor": 5,
  "nbformat": 4,
  "cells": [
    {
      "id": "5dc35e5d-85a0-49a5-a56e-4c13a5620ab5",
      "cell_type": "code",
      "source": "print(\"Hello from xeus-lua!\")",
      "metadata": {
        "trusted": true
      },
      "outputs": [],
      "execution_count": null
    }
  ]
}