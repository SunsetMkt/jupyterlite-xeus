{
  "metadata": {
    "kernelspec": {
      "name": "xpython",
      "display_name": "Python 3.13 (XPython)",
      "language": "python"
    },
    "language_info": {
      "file_extension": ".py",
      "mimetype": "text/x-python",
      "name": "python",
      "version": "3.13.1"
    }
  },
  "nbformat_minor": 5,
  "nbformat": 4,
  "cells": [
    {
      "id": "aafe8de5-ba6b-458c-83b2-ea8e83e1b8d3",
      "cell_type": "code",
      "source": "print(\"Hello from xeus-python!\")\n\nfrom ipyleaflet import Map, Marker\n\ncenter = (52.204793, 360.121558)\n\nm = Map(center=center, zoom=15)\n\nmarker = Marker(location=center, draggable=False)\nm.add(marker);\n\nm",
      "metadata": {
        "trusted": true
      },
      "outputs": [],
      "execution_count": null
    }
  ]
}