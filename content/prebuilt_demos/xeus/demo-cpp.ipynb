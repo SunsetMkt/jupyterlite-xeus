{
  "metadata": {
    "kernelspec": {
      "name": "xcpp23",
      "display_name": "C++23",
      "language": "cpp"
    },
    "language_info": {
      "name": ""
    }
  },
  "nbformat_minor": 5,
  "nbformat": 4,
  "cells": [
    {
      "id": "cff0b6f1-9497-4e07-99e8-16115baeebb2",
      "cell_type": "code",
      "source": "#include <stdio.h>\n#include <math.h>\n\nvoid funky_sin_wave(int length) {\n   for (int y = 0; y < 20; y++) {\n      for (int x = 0; x < length; x++) {\n            double wave = sin(x * 0.1);\n            if ((int)(10 + 10 * wave) == y) {\n               printf(\"*\");\n            } else {\n               printf(\" \");\n            }\n      }\n      printf(\"\\n\");\n   }\n}\n\nfunky_sin_wave(80);",
      "metadata": {
        "trusted": true
      },
      "outputs": [],
      "execution_count": null
    }
  ]
}